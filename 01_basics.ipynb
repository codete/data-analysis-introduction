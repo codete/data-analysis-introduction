{
 "cells": [
  {
   "cell_type": "markdown",
   "metadata": {
    "collapsed": true
   },
   "source": [
    "# Let's clean up here\n",
    "A motivation to these workshops was to show that data analysis (and whole data science, generally speaking) are not so difficult as they are thought to be. What's more, any advanced knowledge in field of programming is not necessary, as we believe, the most important is an ability to think in an analytic way.\n",
    "\n",
    "## 01. Basics\n",
    "First of all, let define what the data analysis is all about. There are too many data related names and professions on the market nowadays, so we are going to start with the description of the process to then go through it. I like the definition of *data analysis*, which describes it as **a process of finding patterns and getting insights from raw data**. The way from this data into the knowledge can be divided into several parts:\n",
    " * collecting data\n",
    " * cleaning and pruning\n",
    " * structuring\n",
    " * enrichment\n",
    " * visualization\n"
   ]
  },
  {
   "cell_type": "code",
   "execution_count": null,
   "metadata": {},
   "outputs": [],
   "source": []
  }
 ],
 "metadata": {
  "kernelspec": {
   "display_name": "Python 2",
   "language": "python",
   "name": "python2"
  },
  "language_info": {
   "codemirror_mode": {
    "name": "ipython",
    "version": 2
   },
   "file_extension": ".py",
   "mimetype": "text/x-python",
   "name": "python",
   "nbconvert_exporter": "python",
   "pygments_lexer": "ipython2",
   "version": "2.7.6"
  }
 },
 "nbformat": 4,
 "nbformat_minor": 0
}
